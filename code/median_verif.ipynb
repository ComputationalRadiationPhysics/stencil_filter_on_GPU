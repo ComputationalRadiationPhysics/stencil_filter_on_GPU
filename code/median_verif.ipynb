{
 "cells": [
  {
   "cell_type": "code",
   "execution_count": 1,
   "metadata": {},
   "outputs": [],
   "source": [
    "# verify median implementation, compare to cpu reference\n",
    "# load median gpu implementation\n",
    "%run median_gpu.ipynb\n",
    "\n",
    "import time\n",
    "\n",
    "import numpy as np\n",
    "from math import ceil \n",
    "\n",
    "import numpy as np\n",
    "import matplotlib.pyplot as plt\n",
    "%matplotlib inline"
   ]
  },
  {
   "cell_type": "code",
   "execution_count": 2,
   "metadata": {},
   "outputs": [],
   "source": [
    "#cpu version: function\n",
    "@numba.njit\n",
    "def numba_median(array):\n",
    "    return np.median(array)\n",
    "\n",
    "@numba.njit\n",
    "def cpu_smooth_kernel(input_data, output_data, fkt, stencil):\n",
    "    # data size\n",
    "    Nz, Ny, Nx = np.shape(input_data)\n",
    "    # stencil size\n",
    "    dx = stencil[0]\n",
    "    dy = stencil[1]\n",
    "    dz = stencil[2]\n",
    "    # run over all data\n",
    "    for z_id in range(Nz):\n",
    "        z_min = max(z_id-dz, 0)\n",
    "        z_max = min(z_id+dz+1, Nz)\n",
    "        for y_id in range(Ny):\n",
    "            y_min = max(y_id-dy, 0)\n",
    "            y_max = min(y_id+dy+1, Ny)\n",
    "            for x_id in range(Nx):\n",
    "                x_min = max(x_id-dx, 0)\n",
    "                x_max = min(x_id+dx+1, Nx)\n",
    "\n",
    "                output_data[z_id, y_id, x_id] = fkt(input_data[z_min:z_max, y_min:y_max, x_min:x_max])"
   ]
  },
  {
   "cell_type": "code",
   "execution_count": 3,
   "metadata": {},
   "outputs": [],
   "source": [
    "#generate dummy data for test\n",
    "Nz, Ny, Nx = 10,10,10\n",
    "real_data = (np.ones((Nz, Ny, Nx)) * np.sin(np.linspace(0, 20, Ny)[np.newaxis, :, np.newaxis])*0.5 \n",
    "             + np.random.normal(scale=1.0, size=(Nz, Ny, Nx)) )"
   ]
  },
  {
   "cell_type": "code",
   "execution_count": 4,
   "metadata": {},
   "outputs": [],
   "source": [
    "# define the output result: same size of input data\n",
    "output_data_cpu_ = real_data.copy()\n",
    "output_data_gpu_ = real_data.copy()"
   ]
  },
  {
   "cell_type": "code",
   "execution_count": 5,
   "metadata": {},
   "outputs": [
    {
     "name": "stdout",
     "output_type": "stream",
     "text": [
      "==================\n",
      "threads: (32, 16, 4)\n",
      "blocks: (8, 8, 8)\n",
      "==================\n"
     ]
    }
   ],
   "source": [
    "stencil_t = np.array([1, 1, 1])\n",
    "lauch_kernel(real_data, output_data_gpu_, stencil_t)\n",
    "cpu_smooth_kernel(real_data, output_data_cpu_, numba_median, stencil_t)"
   ]
  },
  {
   "cell_type": "code",
   "execution_count": 26,
   "metadata": {},
   "outputs": [
    {
     "name": "stdout",
     "output_type": "stream",
     "text": [
      "Missmatch found: cpu(1,1,6) = 0.0009539857217940365, gpu= 0.08178853243589401, percent error = 8473.34974386042\n",
      "Missmatch found: cpu(1,3,7) = 0.00435217388836498, gpu= 0.06398070603609085, percent error = 1370.0861610133657\n",
      "Missmatch found: cpu(1,4,7) = 0.00435217388836498, gpu= 0.05166138336062431, percent error = 1087.024799232744\n",
      "Missmatch found: cpu(1,8,8) = -0.0050455016417864235, gpu= 0.12729302048683167, percent error = 2622.9011805803702\n",
      "Total error count: 25\n",
      "With tolerated relative error (in percent) = 1000\n"
     ]
    }
   ],
   "source": [
    "# run over all data\n",
    "# todo clarify relative error\n",
    "REL_ERR = 1000\n",
    "err_count = 0\n",
    "for z_id in range(Nz):\n",
    "    for y_id in range(Ny):\n",
    "        for x_id in range(Nx):\n",
    "            d_err=abs((output_data_gpu_[z_id, y_id, x_id] - output_data_cpu_[z_id, y_id, x_id]) / output_data_cpu_[z_id, y_id, x_id]) * 100\n",
    "            if d_err > REL_ERR:\n",
    "                err_count +=1\n",
    "                if err_count < 5:\n",
    "                    print(\"Missmatch found: cpu(%d,%d,%d) = %s, gpu= %s, percent error = %s\" %(z_id,y_id,x_id,output_data_cpu_[z_id, y_id, x_id],output_data_gpu_[z_id, y_id, x_id], d_err))\n",
    "print(\"Total error count: %d\" % (err_count))     \n",
    "print(\"With tolerated relative error (in percent) = %d\" % REL_ERR)"
   ]
  },
  {
   "cell_type": "code",
   "execution_count": null,
   "metadata": {},
   "outputs": [],
   "source": []
  }
 ],
 "metadata": {
  "kernelspec": {
   "display_name": "k80_numba",
   "language": "python",
   "name": "k80_numba"
  },
  "language_info": {
   "codemirror_mode": {
    "name": "ipython",
    "version": 3
   },
   "file_extension": ".py",
   "mimetype": "text/x-python",
   "name": "python",
   "nbconvert_exporter": "python",
   "pygments_lexer": "ipython3",
   "version": "3.6.9"
  }
 },
 "nbformat": 4,
 "nbformat_minor": 4
}
